{
 "cells": [
  {
   "cell_type": "markdown",
   "id": "b5de1792",
   "metadata": {},
   "source": [
    "## Suppose we have a population of size 10 million, and suppose 52% of them vote for A and 48% of them vote for B."
   ]
  },
  {
   "cell_type": "markdown",
   "id": "5c351d53",
   "metadata": {},
   "source": [
    "#### get_population will return a list of the population of size specified which has percentage of bias for A and B. A will be represented by 0's and B with 1's."
   ]
  },
  {
   "cell_type": "code",
   "execution_count": 1,
   "id": "65183a55",
   "metadata": {},
   "outputs": [],
   "source": [
    "def get_population (total_population, percentA):\n",
    "    percentB = 1 - percentA\n",
    "    popA = int(percentA*total_population)\n",
    "    popB = int(percentB*total_population)\n",
    "    populationA = [0 for i in range(popA)]\n",
    "    populationB = [1 for i in range(popB)]\n",
    "    population = populationA+populationB\n",
    "    return population"
   ]
  },
  {
   "cell_type": "markdown",
   "id": "9599fc96",
   "metadata": {},
   "source": [
    "#### get_sample_pred will return a dictionary with key as sample size and values as probability of A being in majority for that sample size"
   ]
  },
  {
   "cell_type": "code",
   "execution_count": 2,
   "id": "fe71ad0e",
   "metadata": {},
   "outputs": [],
   "source": [
    "def get_sample_pred (population, sample_sizes, experiments):\n",
    "    import random\n",
    "    answer = {}\n",
    "    for sample in sample_size:\n",
    "        majority = 0\n",
    "        for exp in range(experiments):\n",
    "            A = 0\n",
    "            B = 0    \n",
    "            for pick in range(sample):\n",
    "                val = random.choice(population)\n",
    "                if(val == 0):\n",
    "                    A+=1\n",
    "                else:\n",
    "                    B+=1\n",
    "            if(A>B):\n",
    "                majority+=1\n",
    "        answer[sample] = (majority/experiments)\n",
    "    return answer"
   ]
  },
  {
   "cell_type": "markdown",
   "id": "cee4aa6c",
   "metadata": {},
   "source": [
    "#### get_majority_threshold will return inflection point at which the probability for a sample will be greater than a value(0.9)"
   ]
  },
  {
   "cell_type": "code",
   "execution_count": 3,
   "id": "5ecc49da",
   "metadata": {},
   "outputs": [],
   "source": [
    "def get_majority_threshold(answer, value=0.9):\n",
    "    for key,val in answer.items():\n",
    "        if val >value:\n",
    "            return key"
   ]
  },
  {
   "cell_type": "markdown",
   "id": "3f3356ed",
   "metadata": {},
   "source": [
    "### Part A\n",
    "Randomly pick samples of size (a) 20, (b) 100, (c) 400, and evaluate the probability\n",
    "that A is majority even in your sample (by running the experiment say 100 times and\n",
    "taking the count of times A is the majority in your sample)."
   ]
  },
  {
   "cell_type": "code",
   "execution_count": 4,
   "id": "c2fadfab",
   "metadata": {},
   "outputs": [
    {
     "name": "stdout",
     "output_type": "stream",
     "text": [
      "{20: 0.44, 100: 0.63, 400: 0.74}\n"
     ]
    }
   ],
   "source": [
    "population = get_population(10000000, 0.52)\n",
    "sample_size = [20, 100, 400]\n",
    "answer_a = get_sample_pred(population, sample_size, 100)\n",
    "print(answer_a)"
   ]
  },
  {
   "cell_type": "markdown",
   "id": "8650b9df",
   "metadata": {},
   "source": [
    "### Part B\n",
    "What is the size of the sample you need for the probability above to become 0.9?"
   ]
  },
  {
   "cell_type": "code",
   "execution_count": 5,
   "id": "128b3032",
   "metadata": {},
   "outputs": [
    {
     "name": "stdout",
     "output_type": "stream",
     "text": [
      "The sample size for probability 0.9 is: 1000\n"
     ]
    }
   ],
   "source": [
    "population = get_population(10000000, 0.52)\n",
    "sample_size = [100*i for i in range(20)]\n",
    "answer_b = get_sample_pred(population, sample_size, 100)\n",
    "sample = get_majority_threshold(answer_b)\n",
    "print(\"The sample size for probability 0.9 is:\",sample)"
   ]
  },
  {
   "cell_type": "markdown",
   "id": "dd5c8a8d",
   "metadata": {},
   "source": [
    "### Part C\n",
    "Suppose the population is more biased —55% of them vote for A and 45% of them\n",
    "vote for B --- What is the size of the sample you need for the probability above to become 0.9?"
   ]
  },
  {
   "cell_type": "code",
   "execution_count": 9,
   "id": "c4a58214",
   "metadata": {},
   "outputs": [
    {
     "name": "stdout",
     "output_type": "stream",
     "text": [
      "The sample size for probability 0.9 is: 200\n"
     ]
    }
   ],
   "source": [
    "population = get_population(10000000, 0.55)\n",
    "sample_size = [100*i for i in range(20)]\n",
    "answer_c = get_sample_pred(population, sample_size, 100)\n",
    "sample = get_majority_threshold(answer_c)\n",
    "print(\"The sample size for probability 0.9 is:\",sample)"
   ]
  }
 ],
 "metadata": {
  "kernelspec": {
   "display_name": "Python 3",
   "language": "python",
   "name": "python3"
  },
  "language_info": {
   "codemirror_mode": {
    "name": "ipython",
    "version": 3
   },
   "file_extension": ".py",
   "mimetype": "text/x-python",
   "name": "python",
   "nbconvert_exporter": "python",
   "pygments_lexer": "ipython3",
   "version": "3.8.8"
  }
 },
 "nbformat": 4,
 "nbformat_minor": 5
}
